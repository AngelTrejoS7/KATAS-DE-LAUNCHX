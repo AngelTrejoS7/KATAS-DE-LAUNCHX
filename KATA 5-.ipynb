{
 "cells": [
  {
   "cell_type": "markdown",
   "metadata": {},
   "source": [
    "KATA 5;\n",
    "EJERCICIO 01: UTILIZAR OPERADORES ARITMETICOS"
   ]
  },
  {
   "cell_type": "code",
   "execution_count": 7,
   "metadata": {},
   "outputs": [],
   "source": [
    "# Crear variables para almacenar las dos distancias\n",
    "# ¡Se deben quitar las comas!\n",
    "\n",
    "Planeta_cercano = 149597870 #km\n",
    "Planeta_lejano = 778547200 #km"
   ]
  },
  {
   "cell_type": "code",
   "execution_count": 8,
   "metadata": {},
   "outputs": [
    {
     "name": "stdout",
     "output_type": "stream",
     "text": [
      "628949330\n",
      "390577533.93\n"
     ]
    }
   ],
   "source": [
    "# Calcular la distancia entre planetas\n",
    "\n",
    "distance_km = (Planeta_lejano - Planeta_cercano) #km\n",
    "print (distance_km)\n",
    "\n",
    "distance_mi = (distance_km*0.621) #millas\n",
    "print (distance_mi)"
   ]
  },
  {
   "cell_type": "code",
   "execution_count": 9,
   "metadata": {},
   "outputs": [
    {
     "name": "stdout",
     "output_type": "stream",
     "text": [
      "Distancia\n",
      "**************************************\n",
      "La distancia en km es: 628949330\n",
      "La distancia en millas es 390577533.93\n"
     ]
    }
   ],
   "source": [
    "title = f'DISTANCIA'\n",
    "\n",
    "distancias = f\"\"\"{title.title()}\n",
    "**************************************\n",
    "La distancia en km es: {distance_km}\n",
    "La distancia en millas es {distance_mi}\"\"\"\n",
    "\n",
    "print (distancias)\n"
   ]
  },
  {
   "cell_type": "markdown",
   "metadata": {},
   "source": [
    "EJERCICIO 2: CONVIERTE CADENAS EN NUMEROS Y USA VALORES ABSOLUTOS"
   ]
  },
  {
   "cell_type": "code",
   "execution_count": 10,
   "metadata": {},
   "outputs": [],
   "source": [
    "# Almacenar las entradas del usuario\n",
    "#Pista: variable = input(\"¿Cuál es tu nombre?)\n",
    "\n",
    "Planeta_cercano = input('Introduzca la distancia del Sol al planeta mas cercano en km')\n",
    "Planeta_lejano = input('Introduzca la distancia del Sol al planeta mas lejano en km')"
   ]
  },
  {
   "cell_type": "code",
   "execution_count": 11,
   "metadata": {},
   "outputs": [],
   "source": [
    "# Convertir las cadenas de ambos planetas a números enteros\n",
    "\n",
    "Planeta_cerc = int(Planeta_cercano)\n",
    "Planeta_lej = int(Planeta_lejano)"
   ]
  },
  {
   "cell_type": "code",
   "execution_count": 12,
   "metadata": {},
   "outputs": [
    {
     "name": "stdout",
     "output_type": "stream",
     "text": [
      "628949330\n",
      "390577533.93\n"
     ]
    }
   ],
   "source": [
    "# Realizar el cálculo y determinar el valor absoluto\n",
    "distance_km = (Planeta_lej- Planeta_cerc)\n",
    "print(distance_km)\n",
    "\n",
    "# Convertir de KM a Millas\n",
    "distance_mi = (distance_km * 0.621)\n",
    "print(abs(distance_mi))"
   ]
  }
 ],
 "metadata": {
  "interpreter": {
   "hash": "dda0ab21570dce833aaeb910644a02803c24e5869765398937f61f236ed1a04d"
  },
  "kernelspec": {
   "display_name": "Python 3.10.2 64-bit",
   "language": "python",
   "name": "python3"
  },
  "language_info": {
   "codemirror_mode": {
    "name": "ipython",
    "version": 3
   },
   "file_extension": ".py",
   "mimetype": "text/x-python",
   "name": "python",
   "nbconvert_exporter": "python",
   "pygments_lexer": "ipython3",
   "version": "3.10.2"
  },
  "orig_nbformat": 4
 },
 "nbformat": 4,
 "nbformat_minor": 2
}
