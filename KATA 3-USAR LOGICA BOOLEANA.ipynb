{
 "cells": [
  {
   "cell_type": "markdown",
   "metadata": {},
   "source": [
    "KATA3-USAR LOGICA BOOLEANA"
   ]
  },
  {
   "cell_type": "code",
   "execution_count": 2,
   "metadata": {},
   "outputs": [
    {
     "name": "stdout",
     "output_type": "stream",
     "text": [
      "¡Todo bien!¡Nada de que preocuparse!\n"
     ]
    }
   ],
   "source": [
    "# Añadir el código necesario para crear una variable que guarde la velocidad del asteroide.\n",
    "# Escribe una expresión de prueba para calcular si necesita una advertencia.\n",
    "# Agregue las instrucciones que se ejecutarán si la expresión de prueba es true o false.\n",
    "asteroide = 90\n",
    "\n",
    "if asteroide > 100:\n",
    "    print('¡Aja la baraja! ¡Un asteroide se acerca muy rápido!')\n",
    "else:\n",
    "    print('¡Todo bien!¡Nada de que preocuparse!')"
   ]
  },
  {
   "cell_type": "code",
   "execution_count": 6,
   "metadata": {},
   "outputs": [
    {
     "name": "stdout",
     "output_type": "stream",
     "text": [
      "!Epale! ¡El asteroide viaja a mas de 20km!\n"
     ]
    }
   ],
   "source": [
    "# Agrega el código para crear una variable para un asteroide que viaja a 19 km/s\n",
    "# Escribe varias expresiones de prueba para determinar si puedes ver el rayo de luz desde la tierra\n",
    "# Agrega las instrucciones que se ejecutarán si las expresiones de prueba son True \n",
    "asteroide = 21\n",
    "\n",
    "if asteroide > 20:\n",
    "    print('!Epale! ¡El asteroide viaja a mas de 20km!')\n",
    "elif asteroide == 20:\n",
    "    print('!Epale! ¡El asteroide viaja a 20km!')\n",
    "else:\n",
    "    print('!No pasa nada¡ ¡Viaja a menos de 19km!')"
   ]
  },
  {
   "cell_type": "code",
   "execution_count": 44,
   "metadata": {},
   "outputs": [
    {
     "name": "stdout",
     "output_type": "stream",
     "text": [
      "¡Aja la baraja! ¡Un asteroide se acerca muy rápido y es grande!\n"
     ]
    }
   ],
   "source": [
    "# Agrega el código para crear nuevas variables para la velocidad y el tamaño del asteroide\n",
    "# Para probar el código, prueba con varias velocidades y tamaños\n",
    "# Escribe varias expresiones de prueba o combinaciones de expresiones de prueba para determinar qué mensaje se debe enviar a Tierra.\n",
    "\n",
    "velocidad_asteroide = 50\n",
    "tamano_asteroide = 31\n",
    "\n",
    "if velocidad_asteroide > 45 and tamano_asteroide > 25:\n",
    "    print('¡Aja la baraja! ¡Un asteroide se acerca muy rápido y es grande!')\n",
    "elif velocidad_asteroide >= 100 and tamano_asteroide >= 30 :\n",
    "    print('!EXTINCION!')\n",
    "elif velocidad_asteroide >= 100 and tamano_asteroide < 30:\n",
    "    print('CUIDADO')\n",
    "elif velocidad_asteroide < 25 or tamano_asteroide < 10:\n",
    "    print('No pasa nada') \n",
    "else:\n",
    "    print('Nada de que preocuparse')"
   ]
  }
 ],
 "metadata": {
  "interpreter": {
   "hash": "dda0ab21570dce833aaeb910644a02803c24e5869765398937f61f236ed1a04d"
  },
  "kernelspec": {
   "display_name": "Python 3.10.2 64-bit",
   "language": "python",
   "name": "python3"
  },
  "language_info": {
   "codemirror_mode": {
    "name": "ipython",
    "version": 3
   },
   "file_extension": ".py",
   "mimetype": "text/x-python",
   "name": "python",
   "nbconvert_exporter": "python",
   "pygments_lexer": "ipython3",
   "version": "3.10.2"
  },
  "orig_nbformat": 4
 },
 "nbformat": 4,
 "nbformat_minor": 2
}
