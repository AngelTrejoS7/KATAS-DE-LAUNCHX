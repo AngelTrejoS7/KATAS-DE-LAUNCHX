{
 "cells": [
  {
   "cell_type": "markdown",
   "metadata": {},
   "source": [
    "KATA 6: INTRODUCCION A LAS LISTAS; EJERCICIO 1: CREAR Y USAR LISTAS DE PYTHON"
   ]
  },
  {
   "cell_type": "code",
   "execution_count": 22,
   "metadata": {},
   "outputs": [
    {
     "name": "stdout",
     "output_type": "stream",
     "text": [
      "Los planetas son: ['Mercurio', 'Venus', 'Tierra', 'Marte', 'Jupiter', 'Saturno', 'Urano', 'Neptuno']\n",
      "Hay 8 planetas en el sistema solar\n"
     ]
    }
   ],
   "source": [
    "# Creamos la lista planets y la mostramos\n",
    "\n",
    "planets = ['Mercurio', 'Venus', 'Tierra', 'Marte', 'Jupiter', 'Saturno', 'Urano', 'Neptuno']\n",
    "print ('Los planetas son:', (planets))\n",
    "print ('Hay', len(planets), 'planetas en el sistema solar')\n",
    "\n",
    "# Las listas deben ser con corchetes o no deja agregar nuevos elementos a la lista"
   ]
  },
  {
   "cell_type": "code",
   "execution_count": 23,
   "metadata": {},
   "outputs": [
    {
     "name": "stdout",
     "output_type": "stream",
     "text": [
      "Hay 9 planetas, Pluton fue el ultimo agregado\n"
     ]
    }
   ],
   "source": [
    "# Agregar a plutón y mostramos el último elemento\n",
    "\n",
    "planets.append('Pluton')\n",
    "\n",
    "print ('Hay', len(planets),'planetas,',planets[-1],'fue el ultimo agregado')"
   ]
  },
  {
   "cell_type": "markdown",
   "metadata": {},
   "source": [
    "EJERCICIO 2"
   ]
  },
  {
   "cell_type": "code",
   "execution_count": 24,
   "metadata": {},
   "outputs": [
    {
     "name": "stdout",
     "output_type": "stream",
     "text": [
      "Son 8 planetas en total\n"
     ]
    }
   ],
   "source": [
    "#Lista de planetas\n",
    "\n",
    "planets = ['Mercurio', 'Venus', 'Tierra', 'Marte', 'Jupiter', 'Saturno', 'Urano', 'Neptuno']\n",
    "\n",
    "print('Son', len(planets), 'planetas en total')"
   ]
  },
  {
   "cell_type": "code",
   "execution_count": 28,
   "metadata": {},
   "outputs": [],
   "source": [
    "# Solicitar un nombre de algun planeta conforme a su posicion en la lista \n",
    "# En este caso es en orden de posicionamiento en el sistema solar\n",
    "# *Pista:  input()*\n",
    "\n",
    "u_planet = input ('Ingresa el nombre de un planeta (Ejemplo: Tierra)')\n"
   ]
  },
  {
   "cell_type": "code",
   "execution_count": 29,
   "metadata": {},
   "outputs": [
    {
     "name": "stdout",
     "output_type": "stream",
     "text": [
      "Aquí están los planetas más cercanos al sol que Neptuno\n",
      "['Mercurio', 'Venus', 'Tierra', 'Marte', 'Jupiter', 'Saturno', 'Urano']\n"
     ]
    }
   ],
   "source": [
    "# Buscar el planeta en la lista, usar index\n",
    "\n",
    "index = planets.index(u_planet)\n",
    "\n",
    "#Mostrar que planeta está más cercano al sol\n",
    "\n",
    "print ('Aquí están los planetas más cercanos al sol que ' + u_planet)\n",
    "print (planets[0:index])\n"
   ]
  },
  {
   "cell_type": "code",
   "execution_count": 30,
   "metadata": {},
   "outputs": [
    {
     "name": "stdout",
     "output_type": "stream",
     "text": [
      "Aquí están los planetas más cercanos al sol que Neptuno\n",
      "[]\n"
     ]
    }
   ],
   "source": [
    "#Mostrar los planetas más lejanos al sol\n",
    "\n",
    "print ('Aquí están los planetas más cercanos al sol que ' + u_planet)\n",
    "print (planets[index + 1:])"
   ]
  }
 ],
 "metadata": {
  "interpreter": {
   "hash": "5e9155f8e32d4ecb3af2871b90d7d248b76b8c40b66b782219e029840ae75bf8"
  },
  "kernelspec": {
   "display_name": "Python 3.10.2 64-bit (windows store)",
   "language": "python",
   "name": "python3"
  },
  "language_info": {
   "codemirror_mode": {
    "name": "ipython",
    "version": 3
   },
   "file_extension": ".py",
   "mimetype": "text/x-python",
   "name": "python",
   "nbconvert_exporter": "python",
   "pygments_lexer": "ipython3",
   "version": "3.10.2"
  },
  "orig_nbformat": 4
 },
 "nbformat": 4,
 "nbformat_minor": 2
}
