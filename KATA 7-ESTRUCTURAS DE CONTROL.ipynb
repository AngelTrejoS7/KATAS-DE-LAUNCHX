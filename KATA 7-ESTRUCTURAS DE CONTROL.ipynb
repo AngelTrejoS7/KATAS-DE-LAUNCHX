{
 "cells": [
  {
   "cell_type": "markdown",
   "metadata": {},
   "source": [
    "MODULO 7: ESTRUCTURAS DE CONTROL;\n",
    "KATA 7: CREACION DE UN BUCLE WHILE;\n",
    "EJERCICIO 1: USO DE CICLOS WHILE EN PYTHON"
   ]
  },
  {
   "cell_type": "code",
   "execution_count": 1,
   "metadata": {},
   "outputs": [],
   "source": [
    "# Declara dos variables\n",
    "\n",
    "New_planet = ''\n",
    "planets = []"
   ]
  },
  {
   "cell_type": "code",
   "execution_count": 2,
   "metadata": {},
   "outputs": [],
   "source": [
    "# Ciclo while\n",
    "# Se generará la lista hasta que se ponga la palabra done\n",
    "\n",
    "while New_planet.lower() != 'done':\n",
    "    if New_planet:\n",
    "            planets.append(New_planet)\n",
    "    New_planet = input('Coloca un nuevo planeta')"
   ]
  },
  {
   "cell_type": "code",
   "execution_count": 3,
   "metadata": {},
   "outputs": [
    {
     "name": "stdout",
     "output_type": "stream",
     "text": [
      "Mercurio\n",
      "Venus\n",
      "Tierra\n",
      "Saturno\n",
      "Neptuno\n",
      "Urano\n"
     ]
    }
   ],
   "source": [
    "# Mostrar listas de los planetas\n",
    "# Para iterar la lista de planetas se usa for \n",
    "\n",
    "for planet in planets:\n",
    "    print(planet)"
   ]
  }
 ],
 "metadata": {
  "interpreter": {
   "hash": "dda0ab21570dce833aaeb910644a02803c24e5869765398937f61f236ed1a04d"
  },
  "kernelspec": {
   "display_name": "Python 3.10.2 64-bit",
   "language": "python",
   "name": "python3"
  },
  "language_info": {
   "codemirror_mode": {
    "name": "ipython",
    "version": 3
   },
   "file_extension": ".py",
   "mimetype": "text/x-python",
   "name": "python",
   "nbconvert_exporter": "python",
   "pygments_lexer": "ipython3",
   "version": "3.10.2"
  },
  "orig_nbformat": 4
 },
 "nbformat": 4,
 "nbformat_minor": 2
}
